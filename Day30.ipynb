{
 "cells": [
  {
   "cell_type": "markdown",
   "metadata": {},
   "source": [
    "# Day 30\n",
    "* DLRM is a new Deep learning recommendation model recently open sourced by facebook\n",
    "* Facebook have its command line liberary which can be used to access facebook from cli"
   ]
  },
  {
   "cell_type": "markdown",
   "metadata": {},
   "source": [
    "#### Install fbcli\n",
    "It is a facebook cli biberary for facebook use.\n",
    "```\n",
    "pip3 install fbcli\n",
    "```\n",
    "#### Install Tweepy\n",
    "It is used to use twitter as data source\n",
    "```\n",
    "pip3 install tweepy\n",
    "```"
   ]
  },
  {
   "cell_type": "code",
   "execution_count": 1,
   "metadata": {},
   "outputs": [],
   "source": [
    "# We need tweepy for using Twitter API\n",
    "import tweepy\n",
    "import matplotlib.pyplot as plt\n",
    "from textblob import TextBlob"
   ]
  },
  {
   "cell_type": "markdown",
   "metadata": {},
   "source": [
    "## All the keys are reset in 3 hours of Git update so its better you dont waste time on this"
   ]
  },
  {
   "cell_type": "code",
   "execution_count": 2,
   "metadata": {},
   "outputs": [],
   "source": [
    "# All 4 Authentication keys to access twitter API\n",
    "consumer_key = \"WzM7Vji6g7ppvsKhoLj90Q\"\n",
    "consumer_secret = \"YbqAJmmJtzR1uUyQERbhNTlq641DapEDpvuu84B5Co\"\n",
    "access_token = \"225378669-k5IChjgAasI5X8yFDTDIhTFgInLLUzMLFtzelt4D\"\n",
    "access_secret = \"1SqCwJpFyy710iG7aCJt411LEKSUAttudvKwRv5mcQ\""
   ]
  },
  {
   "cell_type": "code",
   "execution_count": 3,
   "metadata": {},
   "outputs": [],
   "source": [
    "# To connect to Twitter Proxy server or Jump server\n",
    "auth = tweepy.OAuthHandler(consumer_key, consumer_secret)\n",
    "# To Connect from Jump server to web server of Twitter\n",
    "auth.set_access_token(access_token, access_secret)"
   ]
  },
  {
   "cell_type": "code",
   "execution_count": 4,
   "metadata": {},
   "outputs": [],
   "source": [
    "# To get the API Access of twitter we use API function with auth handler\n",
    "api = tweepy.API(auth)"
   ]
  },
  {
   "cell_type": "code",
   "execution_count": 44,
   "metadata": {},
   "outputs": [],
   "source": [
    "tag = 'TVF'"
   ]
  },
  {
   "cell_type": "code",
   "execution_count": 45,
   "metadata": {},
   "outputs": [],
   "source": [
    "# Sample method, used to update a status\n",
    "tweetData = api.search(tag,count=20)"
   ]
  },
  {
   "cell_type": "code",
   "execution_count": 46,
   "metadata": {},
   "outputs": [
    {
     "name": "stdout",
     "output_type": "stream",
     "text": [
      "Negative\n",
      "Neutral\n",
      "Positive\n",
      "Neutral\n",
      "Neutral\n",
      "Neutral\n",
      "Neutral\n",
      "Neutral\n",
      "Neutral\n",
      "Neutral\n",
      "Neutral\n",
      "Negative\n",
      "Positive\n",
      "Neutral\n",
      "Negative\n",
      "Negative\n",
      "Neutral\n",
      "Positive\n",
      "Neutral\n"
     ]
    },
    {
     "data": {
      "text/plain": [
       "<BarContainer object of 3 artists>"
      ]
     },
     "execution_count": 46,
     "metadata": {},
     "output_type": "execute_result"
    },
    {
     "data": {
      "image/png": "[encoded data removed]",
      "text/plain": [
       "<Figure size 432x288 with 1 Axes>"
      ]
     },
     "metadata": {
      "needs_background": "light"
     },
     "output_type": "display_data"
    }
   ],
   "source": [
    "pos = 0\n",
    "neg = 0\n",
    "neu = 0\n",
    "# Printing line by line tweetData\n",
    "for tweet in tweetData:\n",
    "    #print(tweet.text)\n",
    "    analysis = TextBlob(tweet.text) #  Here it will apply NLP\n",
    "    #print(analysis.sentiment)\n",
    "    if analysis.sentiment.polarity > 0 :\n",
    "        print(\"Positive\")\n",
    "        pos = pos + 1\n",
    "    elif analysis.sentiment.polarity == 0 :\n",
    "        print(\"Neutral\")\n",
    "        neu = neu + 1\n",
    "    else :\n",
    "        print('Negative')\n",
    "        neg = neg + 1\n",
    "\n",
    "# Plotting Graph\n",
    "plt.xlabel('Tags')\n",
    "plt.ylabel('Polarity')\n",
    "plt.bar(['pos','neg','neu'],[pos,neg,neu])"
   ]
  },
  {
   "cell_type": "code",
   "execution_count": 47,
   "metadata": {},
   "outputs": [
    {
     "data": {
      "text/plain": [
       "([<matplotlib.patches.Wedge at 0x113e6c70>,\n",
       "  <matplotlib.patches.Wedge at 0x113e6f30>,\n",
       "  <matplotlib.patches.Wedge at 0x113f3210>],\n",
       " [Text(0.9674211366466224, 0.5235421132720434, 'positive'),\n",
       "  Text(-0.09083724220568633, 1.0962429454406837, 'Negative'),\n",
       "  Text(-0.44186507632507777, -1.0073506114180073, 'Neutral')])"
      ]
     },
     "execution_count": 47,
     "metadata": {},
     "output_type": "execute_result"
    },
    {
     "data": {
      "image/png": "[encoded data removed]",
      "text/plain": [
       "<Figure size 432x288 with 1 Axes>"
      ]
     },
     "metadata": {},
     "output_type": "display_data"
    }
   ],
   "source": [
    "plt.pie([pos,neg,neu],labels=['positive','Negative','Neutral'])"
   ]
  },
  {
   "cell_type": "markdown",
   "metadata": {},
   "source": [
    "###### Project Idea for sentimental analysis\n",
    "Text\n",
    "Image/Video\n",
    "Voice integration"
   ]
  },
  {
   "cell_type": "code",
   "execution_count": null,
   "metadata": {},
   "outputs": [],
   "source": []
  }
 ],
 "metadata": {
  "kernelspec": {
   "display_name": "Python 3",
   "language": "python",
   "name": "python3"
  },
  "language_info": {
   "codemirror_mode": {
    "name": "ipython",
    "version": 3
   },
   "file_extension": ".py",
   "mimetype": "text/x-python",
   "name": "python",
   "nbconvert_exporter": "python",
   "pygments_lexer": "ipython3",
   "version": "3.7.3"
  }
 },
 "nbformat": 4,
 "nbformat_minor": 2
}
