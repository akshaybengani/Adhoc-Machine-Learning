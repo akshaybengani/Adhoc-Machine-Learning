{
 "cells": [
  {
   "cell_type": "markdown",
   "metadata": {
    "colab_type": "text",
    "id": "PGRq8D1_zNPq"
   },
   "source": [
    "# Day 16 ML2"
   ]
  },
  {
   "cell_type": "code",
   "execution_count": 0,
   "metadata": {
    "colab": {},
    "colab_type": "code",
    "id": "EEL3jf9BBNLM"
   },
   "outputs": [],
   "source": [
    "import matplotlib.pyplot as plt\n",
    "import numpy as np\n",
    "import time"
   ]
  },
  {
   "cell_type": "code",
   "execution_count": 0,
   "metadata": {
    "colab": {
     "base_uri": "https://localhost:8080/",
     "height": 283
    },
    "colab_type": "code",
    "id": "wjhBjBYSCEB2",
    "outputId": "b4756382-63f5-4fb5-8897-094d6295410b"
   },
   "outputs": [
    {
     "data": {
      "image/png": "[encoded data removed]",
      "text/plain": [
       "<Figure size 432x288 with 1 Axes>"
      ]
     },
     "metadata": {
      "tags": []
     },
     "output_type": "display_data"
    }
   ],
   "source": [
    "x = [4,7,8,9,11,5]\n",
    "y = [13,23,7,9,5,1]\n",
    "plt.xlabel('x-axis')\n",
    "plt.ylabel('y-axis')\n",
    "plt.grid(color=\"green\")\n",
    "plt.bar(x,y)\n",
    "plt.show()"
   ]
  },
  {
   "cell_type": "markdown",
   "metadata": {
    "colab_type": "text",
    "id": "4hTRKFH7zLCd"
   },
   "source": [
    "*   To draw a scatter chart we use ```plt.scatter()``` \n",
    "*   To draw a pie chart we use ```plt.pie()```"
   ]
  },
  {
   "cell_type": "code",
   "execution_count": 0,
   "metadata": {
    "colab": {
     "base_uri": "https://localhost:8080/",
     "height": 459
    },
    "colab_type": "code",
    "id": "mkPYktI6Caxo",
    "outputId": "259561f8-1790-4264-de1b-14c1ce62e60f"
   },
   "outputs": [
    {
     "data": {
      "text/plain": [
       "([<matplotlib.patches.Wedge at 0x7f3af02f1390>,\n",
       "  <matplotlib.patches.Wedge at 0x7f3af02f1cf8>,\n",
       "  <matplotlib.patches.Wedge at 0x7f3af027b6a0>,\n",
       "  <matplotlib.patches.Wedge at 0x7f3af0284048>],\n",
       " [Text(0.21305286529944611, 1.0791702722868604, 'virat'),\n",
       "  Text(-1.092777526229224, -0.12584624812976195, 'dhoni'),\n",
       "  Text(-0.07561366497327134, -1.0973980926123892, 'vijay'),\n",
       "  Text(1.022196039429051, -0.40634376699484664, 'dhawan')],\n",
       " [Text(0.11621065379969786, 0.5886383303382874, '%'),\n",
       "  Text(-0.596060468852304, -0.06864340807077923, '%'),\n",
       "  Text(-0.041243817258148, -0.5985807777885759, '%'),\n",
       "  Text(0.5575614760522096, -0.22164205472446177, '%')])"
      ]
     },
     "execution_count": 18,
     "metadata": {
      "tags": []
     },
     "output_type": "execute_result"
    },
    {
     "data": {
      "image/png": "[encoded data removed]",
      "text/plain": [
       "<Figure size 432x288 with 1 Axes>"
      ]
     },
     "metadata": {
      "tags": []
     },
     "output_type": "display_data"
    }
   ],
   "source": [
    "x = [4,7,8,9,1,5]\n",
    "y = [2,8,9,4,3,7]\n",
    "\n",
    "player=['virat','dhoni','vijay','dhawan']\n",
    "runs = [120,44,77,33]\n",
    "plt.pie(runs,labels=player,shadow=True,autopct='%1.1%')"
   ]
  },
  {
   "cell_type": "markdown",
   "metadata": {
    "colab_type": "text",
    "id": "MgY7LQIzzmu9"
   },
   "source": [
    "# Pandas\n",
    "*   CSV (Comma Seperated Values)\n",
    "*   Pandas is a liberary used for data processing.\n",
    "*   To read a csv file in pandas\n",
    "*   Here data readed by pandas is called as dataframe.\n",
    "*   Data Frame is a structure developed by pandas it converts any type of data to pandas data frame using read_csv."
   ]
  },
  {
   "cell_type": "code",
   "execution_count": 0,
   "metadata": {
    "colab": {},
    "colab_type": "code",
    "id": "tAn8WlPWzljv"
   },
   "outputs": [],
   "source": [
    "import pandas as pd\n",
    "#df = pd.read_csv('com.csv')\n",
    "df = pd.read_csv('http://13.234.66.67/summer19/datasets/com.csv')"
   ]
  },
  {
   "cell_type": "code",
   "execution_count": 0,
   "metadata": {
    "colab": {
     "base_uri": "https://localhost:8080/",
     "height": 235
    },
    "colab_type": "code",
    "id": "wX1Il2Om0tUw",
    "outputId": "df6380ab-2cf6-4bd7-eb02-19eb724b9956"
   },
   "outputs": [
    {
     "data": {
      "text/html": [
       "<div>\n",
       "<style scoped>\n",
       "    .dataframe tbody tr th:only-of-type {\n",
       "        vertical-align: middle;\n",
       "    }\n",
       "\n",
       "    .dataframe tbody tr th {\n",
       "        vertical-align: top;\n",
       "    }\n",
       "\n",
       "    .dataframe thead th {\n",
       "        text-align: right;\n",
       "    }\n",
       "</style>\n",
       "<table border=\"1\" class=\"dataframe\">\n",
       "  <thead>\n",
       "    <tr style=\"text-align: right;\">\n",
       "      <th></th>\n",
       "      <th>Name</th>\n",
       "      <th>Department</th>\n",
       "      <th>Manager</th>\n",
       "      <th>Salary</th>\n",
       "    </tr>\n",
       "  </thead>\n",
       "  <tbody>\n",
       "    <tr>\n",
       "      <th>0</th>\n",
       "      <td>Robin Hood</td>\n",
       "      <td>NaN</td>\n",
       "      <td>NaN</td>\n",
       "      <td>200</td>\n",
       "    </tr>\n",
       "    <tr>\n",
       "      <th>1</th>\n",
       "      <td>Arsene Wenger</td>\n",
       "      <td>Bar</td>\n",
       "      <td>Friar Tuck</td>\n",
       "      <td>50</td>\n",
       "    </tr>\n",
       "    <tr>\n",
       "      <th>2</th>\n",
       "      <td>Friar Tuck</td>\n",
       "      <td>Foo</td>\n",
       "      <td>Robin Hood</td>\n",
       "      <td>100</td>\n",
       "    </tr>\n",
       "    <tr>\n",
       "      <th>3</th>\n",
       "      <td>Little John</td>\n",
       "      <td>Foo</td>\n",
       "      <td>Robin Hood</td>\n",
       "      <td>100</td>\n",
       "    </tr>\n",
       "    <tr>\n",
       "      <th>4</th>\n",
       "      <td>Sam Allardyce</td>\n",
       "      <td>NaN</td>\n",
       "      <td>NaN</td>\n",
       "      <td>250</td>\n",
       "    </tr>\n",
       "    <tr>\n",
       "      <th>5</th>\n",
       "      <td>Dimi Berbatov</td>\n",
       "      <td>Foo</td>\n",
       "      <td>Little John</td>\n",
       "      <td>50</td>\n",
       "    </tr>\n",
       "  </tbody>\n",
       "</table>\n",
       "</div>"
      ],
      "text/plain": [
       "            Name Department      Manager  Salary\n",
       "0     Robin Hood        NaN          NaN     200\n",
       "1  Arsene Wenger        Bar   Friar Tuck      50\n",
       "2     Friar Tuck        Foo   Robin Hood     100\n",
       "3    Little John        Foo   Robin Hood     100\n",
       "4  Sam Allardyce        NaN          NaN     250\n",
       "5  Dimi Berbatov        Foo  Little John      50"
      ]
     },
     "execution_count": 22,
     "metadata": {
      "tags": []
     },
     "output_type": "execute_result"
    }
   ],
   "source": [
    "df"
   ]
  },
  {
   "cell_type": "markdown",
   "metadata": {
    "colab_type": "text",
    "id": "KJ15pq9H1Aud"
   },
   "source": [
    "*   Now if I need to see the structure of use the function df.info()"
   ]
  },
  {
   "cell_type": "code",
   "execution_count": 0,
   "metadata": {
    "colab": {
     "base_uri": "https://localhost:8080/",
     "height": 136
    },
    "colab_type": "code",
    "id": "UXeBwfw6061W",
    "outputId": "0d06a0ae-b59d-4236-9efa-ccbe11e78c9d"
   },
   "outputs": [
    {
     "data": {
      "text/plain": [
       "<bound method DataFrame.info of             Name Department      Manager  Salary\n",
       "0     Robin Hood        NaN          NaN     200\n",
       "1  Arsene Wenger        Bar   Friar Tuck      50\n",
       "2     Friar Tuck        Foo   Robin Hood     100\n",
       "3    Little John        Foo   Robin Hood     100\n",
       "4  Sam Allardyce        NaN          NaN     250\n",
       "5  Dimi Berbatov        Foo  Little John      50>"
      ]
     },
     "execution_count": 23,
     "metadata": {
      "tags": []
     },
     "output_type": "execute_result"
    }
   ],
   "source": [
    "df.info"
   ]
  },
  {
   "cell_type": "markdown",
   "metadata": {
    "colab_type": "text",
    "id": "d76kiVwZ1Emk"
   },
   "source": [
    "*   Now If I need to print all the data"
   ]
  },
  {
   "cell_type": "code",
   "execution_count": 0,
   "metadata": {
    "colab": {
     "base_uri": "https://localhost:8080/",
     "height": 136
    },
    "colab_type": "code",
    "id": "lKS-yPnz1CqQ",
    "outputId": "5f51c102-aa0b-4835-cdc5-121907291e27"
   },
   "outputs": [
    {
     "name": "stdout",
     "output_type": "stream",
     "text": [
      "            Name Department      Manager  Salary\n",
      "0     Robin Hood        NaN          NaN     200\n",
      "1  Arsene Wenger        Bar   Friar Tuck      50\n",
      "2     Friar Tuck        Foo   Robin Hood     100\n",
      "3    Little John        Foo   Robin Hood     100\n",
      "4  Sam Allardyce        NaN          NaN     250\n",
      "5  Dimi Berbatov        Foo  Little John      50\n"
     ]
    }
   ],
   "source": [
    "print(df)"
   ]
  },
  {
   "cell_type": "markdown",
   "metadata": {
    "colab_type": "text",
    "id": "Zk-ub-eg1LCD"
   },
   "source": [
    "*   Now If I say I just need top 3 rows then use head function"
   ]
  },
  {
   "cell_type": "code",
   "execution_count": 0,
   "metadata": {
    "colab": {
     "base_uri": "https://localhost:8080/",
     "height": 142
    },
    "colab_type": "code",
    "id": "d1wrBiCD1Iyw",
    "outputId": "2c5427a5-6826-4d0e-d124-02ce7061fae5"
   },
   "outputs": [
    {
     "data": {
      "text/html": [
       "<div>\n",
       "<style scoped>\n",
       "    .dataframe tbody tr th:only-of-type {\n",
       "        vertical-align: middle;\n",
       "    }\n",
       "\n",
       "    .dataframe tbody tr th {\n",
       "        vertical-align: top;\n",
       "    }\n",
       "\n",
       "    .dataframe thead th {\n",
       "        text-align: right;\n",
       "    }\n",
       "</style>\n",
       "<table border=\"1\" class=\"dataframe\">\n",
       "  <thead>\n",
       "    <tr style=\"text-align: right;\">\n",
       "      <th></th>\n",
       "      <th>Name</th>\n",
       "      <th>Department</th>\n",
       "      <th>Manager</th>\n",
       "      <th>Salary</th>\n",
       "    </tr>\n",
       "  </thead>\n",
       "  <tbody>\n",
       "    <tr>\n",
       "      <th>0</th>\n",
       "      <td>Robin Hood</td>\n",
       "      <td>NaN</td>\n",
       "      <td>NaN</td>\n",
       "      <td>200</td>\n",
       "    </tr>\n",
       "    <tr>\n",
       "      <th>1</th>\n",
       "      <td>Arsene Wenger</td>\n",
       "      <td>Bar</td>\n",
       "      <td>Friar Tuck</td>\n",
       "      <td>50</td>\n",
       "    </tr>\n",
       "    <tr>\n",
       "      <th>2</th>\n",
       "      <td>Friar Tuck</td>\n",
       "      <td>Foo</td>\n",
       "      <td>Robin Hood</td>\n",
       "      <td>100</td>\n",
       "    </tr>\n",
       "  </tbody>\n",
       "</table>\n",
       "</div>"
      ],
      "text/plain": [
       "            Name Department     Manager  Salary\n",
       "0     Robin Hood        NaN         NaN     200\n",
       "1  Arsene Wenger        Bar  Friar Tuck      50\n",
       "2     Friar Tuck        Foo  Robin Hood     100"
      ]
     },
     "execution_count": 25,
     "metadata": {
      "tags": []
     },
     "output_type": "execute_result"
    }
   ],
   "source": [
    "df.head(3)"
   ]
  },
  {
   "cell_type": "markdown",
   "metadata": {
    "colab_type": "text",
    "id": "1lJo9uTG1SUX"
   },
   "source": [
    "*   Now If I say I just need bottom 3 rows then use tail function"
   ]
  },
  {
   "cell_type": "code",
   "execution_count": 0,
   "metadata": {
    "colab": {
     "base_uri": "https://localhost:8080/",
     "height": 142
    },
    "colab_type": "code",
    "id": "9NTj8Ppk1OYI",
    "outputId": "8ff4915b-de5f-47fd-fd54-f5d36e1cb142"
   },
   "outputs": [
    {
     "data": {
      "text/html": [
       "<div>\n",
       "<style scoped>\n",
       "    .dataframe tbody tr th:only-of-type {\n",
       "        vertical-align: middle;\n",
       "    }\n",
       "\n",
       "    .dataframe tbody tr th {\n",
       "        vertical-align: top;\n",
       "    }\n",
       "\n",
       "    .dataframe thead th {\n",
       "        text-align: right;\n",
       "    }\n",
       "</style>\n",
       "<table border=\"1\" class=\"dataframe\">\n",
       "  <thead>\n",
       "    <tr style=\"text-align: right;\">\n",
       "      <th></th>\n",
       "      <th>Name</th>\n",
       "      <th>Department</th>\n",
       "      <th>Manager</th>\n",
       "      <th>Salary</th>\n",
       "    </tr>\n",
       "  </thead>\n",
       "  <tbody>\n",
       "    <tr>\n",
       "      <th>3</th>\n",
       "      <td>Little John</td>\n",
       "      <td>Foo</td>\n",
       "      <td>Robin Hood</td>\n",
       "      <td>100</td>\n",
       "    </tr>\n",
       "    <tr>\n",
       "      <th>4</th>\n",
       "      <td>Sam Allardyce</td>\n",
       "      <td>NaN</td>\n",
       "      <td>NaN</td>\n",
       "      <td>250</td>\n",
       "    </tr>\n",
       "    <tr>\n",
       "      <th>5</th>\n",
       "      <td>Dimi Berbatov</td>\n",
       "      <td>Foo</td>\n",
       "      <td>Little John</td>\n",
       "      <td>50</td>\n",
       "    </tr>\n",
       "  </tbody>\n",
       "</table>\n",
       "</div>"
      ],
      "text/plain": [
       "            Name Department      Manager  Salary\n",
       "3    Little John        Foo   Robin Hood     100\n",
       "4  Sam Allardyce        NaN          NaN     250\n",
       "5  Dimi Berbatov        Foo  Little John      50"
      ]
     },
     "execution_count": 26,
     "metadata": {
      "tags": []
     },
     "output_type": "execute_result"
    }
   ],
   "source": [
    "df.tail(3)"
   ]
  },
  {
   "cell_type": "markdown",
   "metadata": {
    "colab_type": "text",
    "id": "eZCJ_1_M1aF4"
   },
   "source": [
    "*   Now if we need a specific column or such you can specify  the column name in df"
   ]
  },
  {
   "cell_type": "code",
   "execution_count": 0,
   "metadata": {
    "colab": {
     "base_uri": "https://localhost:8080/",
     "height": 136
    },
    "colab_type": "code",
    "id": "6n8qEOjM1XS-",
    "outputId": "76c631e9-a83f-4e6e-a073-9b914da76ad1"
   },
   "outputs": [
    {
     "data": {
      "text/plain": [
       "0       Robin Hood\n",
       "1    Arsene Wenger\n",
       "2       Friar Tuck\n",
       "3      Little John\n",
       "4    Sam Allardyce\n",
       "5    Dimi Berbatov\n",
       "Name: Name, dtype: object"
      ]
     },
     "execution_count": 28,
     "metadata": {
      "tags": []
     },
     "output_type": "execute_result"
    }
   ],
   "source": [
    "df['Name']"
   ]
  },
  {
   "cell_type": "markdown",
   "metadata": {
    "colab_type": "text",
    "id": "MARNaDj_1pje"
   },
   "source": [
    "*   For selecting rows and columns  we have a function, we can apply all numpy rules here."
   ]
  },
  {
   "cell_type": "code",
   "execution_count": 0,
   "metadata": {
    "colab": {
     "base_uri": "https://localhost:8080/",
     "height": 136
    },
    "colab_type": "code",
    "id": "HhsqTJ5N1dKy",
    "outputId": "860edf4d-4d7c-42c7-885d-9bc943492e8d"
   },
   "outputs": [
    {
     "data": {
      "text/plain": [
       "0       Robin Hood\n",
       "1    Arsene Wenger\n",
       "2       Friar Tuck\n",
       "3      Little John\n",
       "4    Sam Allardyce\n",
       "5    Dimi Berbatov\n",
       "Name: Name, dtype: object"
      ]
     },
     "execution_count": 30,
     "metadata": {
      "tags": []
     },
     "output_type": "execute_result"
    }
   ],
   "source": [
    "df.iloc[0:,0]"
   ]
  },
  {
   "cell_type": "markdown",
   "metadata": {
    "colab_type": "text",
    "id": "kcbq1CN715S2"
   },
   "source": [
    "*   To get max min avg mean value from a column"
   ]
  },
  {
   "cell_type": "code",
   "execution_count": 0,
   "metadata": {
    "colab": {
     "base_uri": "https://localhost:8080/",
     "height": 68
    },
    "colab_type": "code",
    "id": "3v3yDoAz1tDK",
    "outputId": "4230fd0c-d661-41f5-9b57-cd6a96cc215b"
   },
   "outputs": [
    {
     "name": "stdout",
     "output_type": "stream",
     "text": [
      "250\n",
      "50\n",
      "125.0\n"
     ]
    }
   ],
   "source": [
    "print(df['Salary'].max())\n",
    "print(df['Salary'].min())\n",
    "print(df['Salary'].mean())"
   ]
  },
  {
   "cell_type": "markdown",
   "metadata": {
    "colab_type": "text",
    "id": "z0l_u9fC1-zk"
   },
   "source": [
    "## Machine Learning Categories\n",
    "*   Supervised Learning\n",
    "*   Unsupervised Learning\n",
    "*   Reinforcement Learning\n",
    "    *   This is for Game Automation, Self Driving Cars"
   ]
  },
  {
   "cell_type": "code",
   "execution_count": 0,
   "metadata": {
    "colab": {
     "base_uri": "https://localhost:8080/",
     "height": 68
    },
    "colab_type": "code",
    "id": "AV3N2Iw7_o-i",
    "outputId": "d0aff9c6-db41-4963-cd0d-4dc6d75a1315"
   },
   "outputs": [
    {
     "data": {
      "text/plain": [
       "array([[0., 0.],\n",
       "       [0., 0.],\n",
       "       [0., 0.]])"
      ]
     },
     "execution_count": 37,
     "metadata": {
      "tags": []
     },
     "output_type": "execute_result"
    }
   ],
   "source": [
    "np.zeros((3,2))"
   ]
  },
  {
   "cell_type": "code",
   "execution_count": 0,
   "metadata": {
    "colab": {},
    "colab_type": "code",
    "id": "hsqy_-6G_sDh"
   },
   "outputs": [],
   "source": []
  }
 ],
 "metadata": {
  "colab": {
   "collapsed_sections": [],
   "name": "Day16File1.ipynb",
   "provenance": [],
   "version": "0.3.2"
  },
  "kernelspec": {
   "display_name": "Python 3",
   "language": "python",
   "name": "python3"
  },
  "language_info": {
   "codemirror_mode": {
    "name": "ipython",
    "version": 3
   },
   "file_extension": ".py",
   "mimetype": "text/x-python",
   "name": "python",
   "nbconvert_exporter": "python",
   "pygments_lexer": "ipython3",
   "version": "3.7.3rc1"
  }
 },
 "nbformat": 4,
 "nbformat_minor": 1
}
